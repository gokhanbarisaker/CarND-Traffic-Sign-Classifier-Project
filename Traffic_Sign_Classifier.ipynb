{
 "cells": [
  {
   "cell_type": "markdown",
   "metadata": {},
   "source": [
    "# Self-Driving Car Engineer Nanodegree\n",
    "\n",
    "## Deep Learning\n",
    "\n",
    "## Project: Build a Traffic Sign Recognition Classifier\n",
    "\n",
    "In this notebook, a template is provided for you to implement your functionality in stages, which is required to successfully complete this project. If additional code is required that cannot be included in the notebook, be sure that the Python code is successfully imported and included in your submission if necessary. \n",
    "\n",
    "> **Note**: Once you have completed all of the code implementations, you need to finalize your work by exporting the iPython Notebook as an HTML document. Before exporting the notebook to html, all of the code cells need to have been run so that reviewers can see the final implementation and output. You can then export the notebook by using the menu above and navigating to  \\n\",\n",
    "    \"**File -> Download as -> HTML (.html)**. Include the finished document along with this notebook as your submission. \n",
    "\n",
    "In addition to implementing code, there is a writeup to complete. The writeup should be completed in a separate file, which can be either a markdown file or a pdf document. There is a [write up template](https://github.com/udacity/CarND-Traffic-Sign-Classifier-Project/blob/master/writeup_template.md) that can be used to guide the writing process. Completing the code template and writeup template will cover all of the [rubric points](https://review.udacity.com/#!/rubrics/481/view) for this project.\n",
    "\n",
    "The [rubric](https://review.udacity.com/#!/rubrics/481/view) contains \"Stand Out Suggestions\" for enhancing the project beyond the minimum requirements. The stand out suggestions are optional. If you decide to pursue the \"stand out suggestions\", you can include the code in this Ipython notebook and also discuss the results in the writeup file.\n",
    "\n",
    "\n",
    ">**Note:** Code and Markdown cells can be executed using the **Shift + Enter** keyboard shortcut. In addition, Markdown cells can be edited by typically double-clicking the cell to enter edit mode."
   ]
  },
  {
   "cell_type": "markdown",
   "metadata": {},
   "source": [
    "---\n",
    "## Step 0: Load The Data"
   ]
  },
  {
   "cell_type": "code",
   "execution_count": 1,
   "metadata": {},
   "outputs": [],
   "source": [
    "# Load pickled data\n",
    "import pickle\n",
    "\n",
    "# TODO: Fill this in based on where you saved the training and testing data\n",
    "\n",
    "training_file = 'traffic-signs-data/train.p'\n",
    "validation_file= 'traffic-signs-data/valid.p'\n",
    "testing_file = 'traffic-signs-data/test.p'\n",
    "\n",
    "with open(training_file, mode='rb') as f:\n",
    "    train = pickle.load(f)\n",
    "with open(validation_file, mode='rb') as f:\n",
    "    valid = pickle.load(f)\n",
    "with open(testing_file, mode='rb') as f:\n",
    "    test = pickle.load(f)\n",
    "    \n",
    "X_train, y_train, s_train, c_train = train['features'], train['labels'], train['sizes'], train['coords']\n",
    "X_valid, y_valid = valid['features'], valid['labels']\n",
    "X_test, y_test = test['features'], test['labels']"
   ]
  },
  {
   "cell_type": "markdown",
   "metadata": {},
   "source": [
    "---\n",
    "\n",
    "## Step 1: Dataset Summary & Exploration\n",
    "\n",
    "The pickled data is a dictionary with 4 key/value pairs:\n",
    "\n",
    "- `'features'` is a 4D array containing raw pixel data of the traffic sign images, (num examples, width, height, channels).\n",
    "- `'labels'` is a 1D array containing the label/class id of the traffic sign. The file `signnames.csv` contains id -> name mappings for each id.\n",
    "- `'sizes'` is a list containing tuples, (width, height) representing the original width and height the image.\n",
    "- `'coords'` is a list containing tuples, (x1, y1, x2, y2) representing coordinates of a bounding box around the sign in the image. **THESE COORDINATES ASSUME THE ORIGINAL IMAGE. THE PICKLED DATA CONTAINS RESIZED VERSIONS (32 by 32) OF THESE IMAGES**\n",
    "\n",
    "Complete the basic data summary below. Use python, numpy and/or pandas methods to calculate the data summary rather than hard coding the results. For example, the [pandas shape method](http://pandas.pydata.org/pandas-docs/stable/generated/pandas.DataFrame.shape.html) might be useful for calculating some of the summary results. "
   ]
  },
  {
   "cell_type": "markdown",
   "metadata": {},
   "source": [
    "### Provide a Basic Summary of the Data Set Using Python, Numpy and/or Pandas"
   ]
  },
  {
   "cell_type": "code",
   "execution_count": 2,
   "metadata": {},
   "outputs": [
    {
     "name": "stdout",
     "output_type": "stream",
     "text": [
      "Number of training examples = 34799\n",
      "Number of validation examples = 4410\n",
      "Number of testing examples = 12630\n",
      "Image data shape = (32, 32, 3)\n",
      "Number of classes = 43\n",
      "Sizes sample:  [36 35]\n",
      "Coords sample:  [ 6  6 23 22]\n"
     ]
    },
    {
     "data": {
      "image/png": "[encoded data removed]",
      "text/plain": [
       "<matplotlib.figure.Figure at 0x7fae78664630>"
      ]
     },
     "metadata": {
      "needs_background": "light"
     },
     "output_type": "display_data"
    }
   ],
   "source": [
    "### Replace each question mark with the appropriate value. \n",
    "### Use python, pandas or numpy methods rather than hard coding the results\n",
    "\n",
    "import numpy as np\n",
    "from random import randrange\n",
    "import matplotlib.pyplot as plt\n",
    "# Visualizations will be shown in the notebook.\n",
    "%matplotlib inline\n",
    "\n",
    "# TODO: Number of training examples\n",
    "n_train = len(y_train)\n",
    "\n",
    "# TODO: Number of validation examples\n",
    "n_validation = len(y_valid)\n",
    "\n",
    "# TODO: Number of testing examples.\n",
    "n_test = len(y_test)\n",
    "\n",
    "# TODO: What's the shape of an traffic sign image?\n",
    "image_shape = X_train[0].shape\n",
    "\n",
    "# TODO: How many unique classes/labels there are in the dataset.\n",
    "n_classes = len(set(y_train))\n",
    "\n",
    "print(\"Number of training examples =\", n_train)\n",
    "print(\"Number of validation examples =\", n_validation)\n",
    "print(\"Number of testing examples =\", n_test)\n",
    "print(\"Image data shape =\", image_shape)\n",
    "print(\"Number of classes =\", n_classes)\n",
    "\n",
    "print(\"Sizes sample: \", s_train[randrange(len(s_train))])\n",
    "print(\"Coords sample: \", c_train[randrange(len(c_train))])\n",
    "\n",
    "fig, ax = plt.subplots()\n",
    "plt.bar(np.arange(3), (n_train, n_validation, n_test))\n",
    "plt.xticks(np.arange(3), ('Train', 'Validation', 'Test'))\n",
    "plt.show()"
   ]
  },
  {
   "cell_type": "markdown",
   "metadata": {},
   "source": [
    "### Include an exploratory visualization of the dataset"
   ]
  },
  {
   "cell_type": "markdown",
   "metadata": {},
   "source": [
    "Visualize the German Traffic Signs Dataset using the pickled file(s). This is open ended, suggestions include: plotting traffic sign images, plotting the count of each sign, etc. \n",
    "\n",
    "The [Matplotlib](http://matplotlib.org/) [examples](http://matplotlib.org/examples/index.html) and [gallery](http://matplotlib.org/gallery.html) pages are a great resource for doing visualizations in Python.\n",
    "\n",
    "**NOTE:** It's recommended you start with something simple first. If you wish to do more, come back to it after you've completed the rest of the sections. It can be interesting to look at the distribution of classes in the training, validation and test set. Is the distribution the same? Are there more examples of some classes than others?"
   ]
  },
  {
   "cell_type": "code",
   "execution_count": 3,
   "metadata": {},
   "outputs": [
    {
     "data": {
      "text/plain": [
       "<matplotlib.image.AxesImage at 0x7fae282fee48>"
      ]
     },
     "execution_count": 3,
     "metadata": {},
     "output_type": "execute_result"
    },
    {
     "data": {
      "image/png": "[encoded data removed]",
      "text/plain": [
       "<matplotlib.figure.Figure at 0x7fae78640390>"
      ]
     },
     "metadata": {
      "needs_background": "light"
     },
     "output_type": "display_data"
    }
   ],
   "source": [
    "### Data exploration visualization code goes here.\n",
    "### Feel free to use as many code cells as needed.\n",
    "\n",
    "plt.imshow(X_train[randrange(len(X_train))])"
   ]
  },
  {
   "cell_type": "markdown",
   "metadata": {},
   "source": [
    "----\n",
    "\n",
    "## Step 2: Design and Test a Model Architecture\n",
    "\n",
    "Design and implement a deep learning model that learns to recognize traffic signs. Train and test your model on the [German Traffic Sign Dataset](http://benchmark.ini.rub.de/?section=gtsrb&subsection=dataset).\n",
    "\n",
    "The LeNet-5 implementation shown in the [classroom](https://classroom.udacity.com/nanodegrees/nd013/parts/fbf77062-5703-404e-b60c-95b78b2f3f9e/modules/6df7ae49-c61c-4bb2-a23e-6527e69209ec/lessons/601ae704-1035-4287-8b11-e2c2716217ad/concepts/d4aca031-508f-4e0b-b493-e7b706120f81) at the end of the CNN lesson is a solid starting point. You'll have to change the number of classes and possibly the preprocessing, but aside from that it's plug and play! \n",
    "\n",
    "With the LeNet-5 solution from the lecture, you should expect a validation set accuracy of about 0.89. To meet specifications, the validation set accuracy will need to be at least 0.93. It is possible to get an even higher accuracy, but 0.93 is the minimum for a successful project submission. \n",
    "\n",
    "There are various aspects to consider when thinking about this problem:\n",
    "\n",
    "- Neural network architecture (is the network over or underfitting?)\n",
    "- Play around preprocessing techniques (normalization, rgb to grayscale, etc)\n",
    "- Number of examples per label (some have more than others).\n",
    "- Generate fake data.\n",
    "\n",
    "Here is an example of a [published baseline model on this problem](http://yann.lecun.com/exdb/publis/pdf/sermanet-ijcnn-11.pdf). It's not required to be familiar with the approach used in the paper but, it's good practice to try to read papers like these."
   ]
  },
  {
   "cell_type": "markdown",
   "metadata": {},
   "source": [
    "### Pre-process the Data Set (normalization, grayscale, etc.)"
   ]
  },
  {
   "cell_type": "markdown",
   "metadata": {},
   "source": [
    "Minimally, the image data should be normalized so that the data has mean zero and equal variance. For image data, `(pixel - 128)/ 128` is a quick way to approximately normalize the data and can be used in this project. \n",
    "\n",
    "Other pre-processing steps are optional. You can try different techniques to see if it improves performance. \n",
    "\n",
    "Use the code cell (or multiple code cells, if necessary) to implement the first step of your project."
   ]
  },
  {
   "cell_type": "code",
   "execution_count": 4,
   "metadata": {},
   "outputs": [],
   "source": [
    "### Preprocess the data here. It is required to normalize the data. Other preprocessing steps could include \n",
    "### converting to grayscale, etc.\n",
    "### Feel free to use as many code cells as needed.\n",
    "\n",
    "from concurrent.futures import ThreadPoolExecutor, ProcessPoolExecutor\n",
    "from functools import reduce\n",
    "import math\n",
    "\n",
    "def normalize_channel(channel):\n",
    "    # TODO: We might want to get min max and do the calculation based on that\n",
    "    return np.float32((channel - 128) / 128)\n",
    "\n",
    "def normalize_pixel(pixel):\n",
    "    return list(map(lambda channel: normalize_channel(channel), list(pixel)))\n",
    "\n",
    "def normalize_image(image):\n",
    "    width, height = image.shape[0], image.shape[1]\n",
    "    return [[normalize_pixel(image[y][x]) for x in range(width)] for y in range(height)]\n",
    "\n",
    "def normalize_dataset(dataset):\n",
    "    return np.array(list(map(lambda image: normalize_image(image), dataset)))\n",
    "\n",
    "def normalize_dataset_concurrent(dataset, max_workers = 1):\n",
    "    with ProcessPoolExecutor(max_workers=max_workers) as executor:\n",
    "        return np.array(list(executor.map(normalize_image, dataset)))"
   ]
  },
  {
   "cell_type": "code",
   "execution_count": 7,
   "metadata": {},
   "outputs": [
    {
     "name": "stdout",
     "output_type": "stream",
     "text": [
      "Prior: (32, 32, 3)\n",
      "Norma: (32, 32, 3)\n"
     ]
    }
   ],
   "source": [
    "X_train_normalized = normalize_dataset_concurrent(X_train, 12)\n",
    "print(\"Prior: {}\".format(X_train[0].shape))\n",
    "print(\"Norma: {}\".format(np.shape(X_train_normalized[0])))\n",
    "\n",
    "with open('traffic-signs-data/norm.p', 'wb') as file:\n",
    "    pickle.dump(X_train_normalized, file)"
   ]
  },
  {
   "cell_type": "code",
   "execution_count": 5,
   "metadata": {},
   "outputs": [
    {
     "name": "stdout",
     "output_type": "stream",
     "text": [
      "(34799, 32, 32, 3)\n"
     ]
    }
   ],
   "source": [
    "X_train_normalized = pickle.load(open(\"traffic-signs-data/norm.p\", \"rb\"))\n",
    "print(X_train_normalized.shape)"
   ]
  },
  {
   "cell_type": "markdown",
   "metadata": {},
   "source": [
    "### Model Architecture"
   ]
  },
  {
   "cell_type": "code",
   "execution_count": 6,
   "metadata": {},
   "outputs": [],
   "source": [
    "### Define your architecture here.\n",
    "### Feel free to use as many code cells as needed.\n",
    "\n",
    "import tensorflow as tf\n",
    "from tensorflow.contrib.layers import flatten\n",
    "\n",
    "def LeNet(dataset, keep_prob):\n",
    "    # Define hyperparameters\n",
    "    mu = 0\n",
    "    sigma = 0.1\n",
    "    \n",
    "    # Layer 1: Convolutional. The output shape should be 28x28x6.\n",
    "    c1_weights = tf.Variable(tf.truncated_normal((5, 5, 3, 6), mean=mu, stddev=sigma))\n",
    "    c1_bias = tf.Variable(tf.zeros(6))\n",
    "    c1 = tf.nn.bias_add(tf.nn.conv2d(dataset, c1_weights, [1, 1, 1, 1], \"VALID\"), c1_bias)\n",
    "\n",
    "    # Activation. Your choice of activation function.\n",
    "    a1 = tf.nn.relu(c1)\n",
    "\n",
    "    # Pooling. The output shape should be 14x14x6.\n",
    "    p1 = tf.nn.max_pool(a1, [1, 2, 2, 1], [1, 2, 2, 1], \"VALID\")\n",
    "    \n",
    "    # Dropout\n",
    "    d1 = tf.nn.dropout(p1, keep_prob)\n",
    "\n",
    "    # Layer 2: Convolutional. The output shape should be 10x10x16.\n",
    "    c2_weights = tf.Variable(tf.truncated_normal((5, 5, 6, 16), mean=mu, stddev=sigma))\n",
    "    c2_bias = tf.Variable(tf.zeros(16))\n",
    "    c2 = tf.nn.bias_add(tf.nn.conv2d(d1, c2_weights, [1, 1, 1, 1], \"VALID\"), c2_bias)\n",
    "    \n",
    "    # Activation. Your choice of activation function.\n",
    "    a2 = tf.nn.relu(c2)\n",
    "\n",
    "    # Pooling. The output shape should be 5x5x16.\n",
    "    p2 = tf.nn.max_pool(a2, [1, 2, 2, 1], [1, 2, 2, 1], \"VALID\")\n",
    "    \n",
    "    # Dropout\n",
    "    d2 = tf.nn.dropout(p2, keep_prob)\n",
    "    \n",
    "    # Flatten. Flatten the output shape of the final pooling layer such that it's 1D instead of 3D. The easiest way to do is by using tf.contrib.layers.flatten, which is already imported for you.\n",
    "    f1 = flatten(d2)\n",
    "    \n",
    "    # Layer 3: Fully Connected. This should have 120 outputs.\n",
    "    fc1_weights = tf.Variable(tf.truncated_normal([400, 120], mean=mu, stddev=sigma))\n",
    "    fc1_bias = tf.Variable(tf.zeros(120))\n",
    "    fc1 = tf.nn.bias_add(tf.matmul(f1, fc1_weights), fc1_bias)\n",
    "    \n",
    "    # Activation. Your choice of activation function.\n",
    "    a3 = tf.nn.relu(fc1)\n",
    "    \n",
    "    # Dropout\n",
    "    d3 = tf.nn.dropout(a3, keep_prob)\n",
    "\n",
    "    # Layer 4: Fully Connected. This should have 84 outputs.\n",
    "    fc2_weights = tf.Variable(tf.truncated_normal([120, 84], mean=mu, stddev=sigma))\n",
    "    fc2_bias = tf.Variable(tf.zeros(84))\n",
    "    fc2 = tf.nn.bias_add(tf.matmul(d3, fc2_weights), fc2_bias)\n",
    "    \n",
    "    # Activation. Your choice of activation function.\n",
    "    a4 = tf.nn.relu(fc2)\n",
    "    \n",
    "    # Dropout\n",
    "    d4 = tf.nn.dropout(a4, keep_prob)\n",
    "    \n",
    "    # Layer 5: Fully Connected (Logits). This should have 10 outputs.\n",
    "    fc3_weights = tf.Variable(tf.truncated_normal([84, 43], mean=mu, stddev=sigma))\n",
    "    fc3_bias = tf.Variable(tf.zeros(43))\n",
    "    fc3 = tf.nn.bias_add(tf.matmul(d4, fc3_weights), fc3_bias)\n",
    "    \n",
    "    return fc3\n"
   ]
  },
  {
   "cell_type": "markdown",
   "metadata": {},
   "source": [
    "### Train, Validate and Test the Model"
   ]
  },
  {
   "cell_type": "markdown",
   "metadata": {},
   "source": [
    "A validation set can be used to assess how well the model is performing. A low accuracy on the training and validation\n",
    "sets imply underfitting. A high accuracy on the training set but low accuracy on the validation set implies overfitting."
   ]
  },
  {
   "cell_type": "code",
   "execution_count": 7,
   "metadata": {},
   "outputs": [],
   "source": [
    "### Train your model here.\n",
    "### Calculate and report the accuracy on the training and validation set.\n",
    "### Once a final model architecture is selected, \n",
    "### the accuracy on the test set should be calculated and reported as well.\n",
    "### Feel free to use as many code cells as needed.\n",
    "\n",
    "# learning_rate\n",
    "# epoch\n",
    "# batch_size\n",
    "\n",
    "x = tf.placeholder(tf.float32, (None, 32, 32, 3))\n",
    "y = tf.placeholder(tf.int32, (None))\n",
    "one_hot_y = tf.one_hot(y, 43)\n",
    "learning_rate = 0.001\n",
    "epochs = 24\n",
    "batch_size = 128\n",
    "keep_prob = tf.placeholder(tf.float32)\n",
    "\n",
    "logits = LeNet(x, keep_prob)\n",
    "cross_entropy = tf.nn.softmax_cross_entropy_with_logits(labels=one_hot_y, logits=logits)\n",
    "loss_operation = tf.reduce_mean(cross_entropy)\n",
    "optimizer = tf.train.AdamOptimizer(learning_rate = learning_rate)\n",
    "training_operation = optimizer.minimize(loss_operation)"
   ]
  },
  {
   "cell_type": "code",
   "execution_count": 8,
   "metadata": {},
   "outputs": [],
   "source": [
    "correct_prediction = tf.equal(tf.argmax(logits, 1), tf.argmax(one_hot_y, 1))\n",
    "accuracy_operation = tf.reduce_mean(tf.cast(correct_prediction, tf.float32))\n",
    "saver = tf.train.Saver()\n",
    "\n",
    "def evaluate(operation, X_data, y_data, batch_size=128):\n",
    "    num_examples = len(X_data)\n",
    "    total_accuracy = 0\n",
    "    sess = tf.get_default_session()\n",
    "    for offset in range(0, num_examples, batch_size):\n",
    "        batch_x, batch_y = X_data[offset:offset+batch_size], y_data[offset:offset+batch_size]\n",
    "        accuracy = sess.run(operation, feed_dict={x: batch_x, y: batch_y, keep_prob: 1.0})\n",
    "        total_accuracy += (accuracy * len(batch_x))\n",
    "    return total_accuracy / num_examples"
   ]
  },
  {
   "cell_type": "code",
   "execution_count": 9,
   "metadata": {},
   "outputs": [
    {
     "name": "stderr",
     "output_type": "stream",
     "text": [
      "/Users/gaker/miniconda3/envs/carnd-term1/lib/python3.5/site-packages/sklearn/utils/fixes.py:313: FutureWarning: numpy not_equal will not check object identity in the future. The comparison did not return the same result as suggested by the identity (`is`)) and will change.\n",
      "  _nan_object_mask = _nan_object_array != _nan_object_array\n"
     ]
    },
    {
     "name": "stdout",
     "output_type": "stream",
     "text": [
      "Training...\n",
      "\n",
      "Epoch 1 is running...\n",
      "EPOCH 1 ...\n",
      "Validation Accuracy = 0.626\n",
      "\n",
      "Epoch 2 is running...\n",
      "EPOCH 2 ...\n",
      "Validation Accuracy = 0.779\n",
      "\n",
      "Epoch 3 is running...\n",
      "EPOCH 3 ...\n",
      "Validation Accuracy = 0.842\n",
      "\n",
      "Epoch 4 is running...\n",
      "EPOCH 4 ...\n",
      "Validation Accuracy = 0.885\n",
      "\n",
      "Epoch 5 is running...\n",
      "EPOCH 5 ...\n",
      "Validation Accuracy = 0.917\n",
      "\n",
      "Epoch 6 is running...\n",
      "EPOCH 6 ...\n",
      "Validation Accuracy = 0.923\n",
      "\n",
      "Epoch 7 is running...\n",
      "EPOCH 7 ...\n",
      "Validation Accuracy = 0.919\n",
      "\n",
      "Epoch 8 is running...\n",
      "EPOCH 8 ...\n",
      "Validation Accuracy = 0.909\n",
      "\n",
      "Epoch 9 is running...\n",
      "EPOCH 9 ...\n",
      "Validation Accuracy = 0.912\n",
      "\n",
      "Epoch 10 is running...\n",
      "EPOCH 10 ...\n",
      "Validation Accuracy = 0.922\n",
      "\n",
      "Epoch 11 is running...\n",
      "EPOCH 11 ...\n",
      "Validation Accuracy = 0.941\n",
      "\n",
      "Epoch 12 is running...\n",
      "EPOCH 12 ...\n",
      "Validation Accuracy = 0.932\n",
      "\n",
      "Epoch 13 is running...\n",
      "EPOCH 13 ...\n",
      "Validation Accuracy = 0.941\n",
      "\n",
      "Epoch 14 is running...\n",
      "EPOCH 14 ...\n",
      "Validation Accuracy = 0.940\n",
      "\n",
      "Epoch 15 is running...\n",
      "EPOCH 15 ...\n",
      "Validation Accuracy = 0.945\n",
      "\n",
      "Epoch 16 is running...\n",
      "EPOCH 16 ...\n",
      "Validation Accuracy = 0.941\n",
      "\n",
      "Epoch 17 is running...\n",
      "EPOCH 17 ...\n",
      "Validation Accuracy = 0.940\n",
      "\n",
      "Epoch 18 is running...\n",
      "EPOCH 18 ...\n",
      "Validation Accuracy = 0.941\n",
      "\n",
      "Epoch 19 is running...\n",
      "EPOCH 19 ...\n",
      "Validation Accuracy = 0.947\n",
      "\n",
      "Epoch 20 is running...\n",
      "EPOCH 20 ...\n",
      "Validation Accuracy = 0.951\n",
      "\n",
      "Epoch 21 is running...\n",
      "EPOCH 21 ...\n",
      "Validation Accuracy = 0.943\n",
      "\n",
      "Epoch 22 is running...\n",
      "EPOCH 22 ...\n",
      "Validation Accuracy = 0.938\n",
      "\n",
      "Epoch 23 is running...\n",
      "EPOCH 23 ...\n",
      "Validation Accuracy = 0.927\n",
      "\n",
      "Epoch 24 is running...\n",
      "EPOCH 24 ...\n",
      "Validation Accuracy = 0.939\n",
      "\n",
      "Model saved\n"
     ]
    }
   ],
   "source": [
    "from sklearn.utils import shuffle\n",
    "\n",
    "def train(session, operation, td, tl, vd, vl, epochs = 10):\n",
    "    num_examples = len(td)\n",
    "    \n",
    "    print(\"Training...\")\n",
    "    print()\n",
    "    for i in range(epochs):\n",
    "        print(\"Epoch {} is running...\".format(i+1))\n",
    "        td_shuffled, tl_shuffled = shuffle(td, tl)\n",
    "        for offset in range(0, num_examples, batch_size):\n",
    "            end = offset + batch_size\n",
    "            td_batch, tl_batch = td_shuffled[offset:end], tl_shuffled[offset:end]\n",
    "            session.run(operation, feed_dict={x: td_batch, y: tl_batch, keep_prob: 0.8})\n",
    "            \n",
    "        validation_accuracy = evaluate(accuracy_operation, vd, vl, batch_size)\n",
    "        print(\"EPOCH {} ...\".format(i+1))\n",
    "        print(\"Validation Accuracy = {:.3f}\".format(validation_accuracy))\n",
    "        print()\n",
    "        \n",
    "    saver.save(session, './lenet')\n",
    "    print(\"Model saved\")\n",
    "    \n",
    "with tf.Session() as session:\n",
    "    session.run(tf.global_variables_initializer())\n",
    "    train(session, training_operation, X_train_normalized, y_train, X_valid, y_valid, epochs)"
   ]
  },
  {
   "cell_type": "code",
   "execution_count": 95,
   "metadata": {},
   "outputs": [],
   "source": [
    "### Print accuracy for training, validation & test datasets"
   ]
  },
  {
   "cell_type": "code",
   "execution_count": 11,
   "metadata": {},
   "outputs": [
    {
     "name": "stdout",
     "output_type": "stream",
     "text": [
      "INFO:tensorflow:Restoring parameters from ./lenet\n",
      "Train accuracy: 0.9901434183120728\n",
      "Validation accuracy: 0.9387755393981934\n",
      "Test accuracy: 0.929057776927948\n"
     ]
    }
   ],
   "source": [
    "def print_accuracies():\n",
    "    with tf.Session() as session:\n",
    "        saver.restore(session, './lenet')\n",
    "        train_accuracy = evaluate(accuracy_operation, X_train, y_train, len(X_train))\n",
    "        valid_accuracy = evaluate(accuracy_operation, X_valid, y_valid, len(X_valid))\n",
    "        test_accuracy = evaluate(accuracy_operation, X_test, y_test, len(X_test))\n",
    "        print(\"Train accuracy: {}\".format(train_accuracy))\n",
    "        print(\"Validation accuracy: {}\".format(valid_accuracy))\n",
    "        print(\"Test accuracy: {}\".format(test_accuracy))\n",
    "        \n",
    "        \n",
    "print_accuracies()"
   ]
  },
  {
   "cell_type": "markdown",
   "metadata": {},
   "source": [
    "---\n",
    "\n",
    "## Step 3: Test a Model on New Images\n",
    "\n",
    "To give yourself more insight into how your model is working, download at least five pictures of German traffic signs from the web and use your model to predict the traffic sign type.\n",
    "\n",
    "You may find `signnames.csv` useful as it contains mappings from the class id (integer) to the actual sign name."
   ]
  },
  {
   "cell_type": "markdown",
   "metadata": {},
   "source": [
    "### Load and Output the Images"
   ]
  },
  {
   "cell_type": "code",
   "execution_count": 77,
   "metadata": {},
   "outputs": [],
   "source": [
    "### Load the images and plot them here.\n",
    "### Feel free to use as many code cells as needed.\n",
    "\n",
    "# TODO: Image display is broken\n",
    "\n",
    "import csv\n",
    "\n",
    "def load_label_names():\n",
    "    label_names = {}\n",
    "    \n",
    "    with open('signnames.csv') as csvfile:\n",
    "        reader = csv.reader(csvfile)\n",
    "        for row in reader:\n",
    "            try:\n",
    "                label_names[int(row[0])] = row[1]\n",
    "            except ValueError:\n",
    "                continue\n",
    "    \n",
    "    return label_names\n",
    "\n",
    "def predict(session, image, label_names={}):\n",
    "    label = session.run(tf.argmax(logits, 1), feed_dict={x:[image], keep_prob: 1.0})[0]\n",
    "    name = label_names.get(label, 'Undefined')\n",
    "    return label, name\n",
    "\n",
    "def display_single_dimension(images, predictions, cols):\n",
    "    f, axarr = plt.subplots(1, cols, figsize=(16, 16))\n",
    "    for x in range(cols):\n",
    "        if x < len(images):\n",
    "            prediction = predictions[x]\n",
    "            axarr[x].set_title(\"{}\".format(prediction))\n",
    "            axarr[x].imshow(images[x])\n",
    "    \n",
    "\n",
    "def display_multiple_dimension(images, predictions, rows, cols):\n",
    "    f, axarr = plt.subplots(rows, cols, figsize=(16, 16))\n",
    "    \n",
    "    for y in range(rows):\n",
    "        for x in range(cols):\n",
    "            index = (y * cols) + x\n",
    "            if index < len(images):\n",
    "                prediction = predictions[index]\n",
    "                axarr[y, x].set_title(\"{}\".format(prediction))\n",
    "                axarr[y, x].imshow(images[index])\n",
    "\n",
    "def display(images, predictions):\n",
    "    cols = 3\n",
    "    rows = int(math.ceil(len(images)/cols))\n",
    "    \n",
    "    if rows == 1:\n",
    "        display_single_dimension(images, predictions, len(images))\n",
    "    else:\n",
    "        display_multiple_dimension(images, predictions, rows, cols)\n",
    "\n",
    "def random_images(images, n):\n",
    "    a = np.arange(len(images))\n",
    "    np.random.shuffle(a)\n",
    "    print(\"A: {}\".format(a))\n",
    "    return images[a[:n]]\n"
   ]
  },
  {
   "cell_type": "markdown",
   "metadata": {},
   "source": [
    "### Predict the Sign Type for Each Image"
   ]
  },
  {
   "cell_type": "code",
   "execution_count": 78,
   "metadata": {},
   "outputs": [
    {
     "name": "stdout",
     "output_type": "stream",
     "text": [
      "A: [2736 3424 1102 ...,  499  204 3895]\n",
      "(5, 32, 32, 3)\n",
      "INFO:tensorflow:Restoring parameters from ./lenet\n",
      "[(6, 'End of speed limit (80km/h)'), (33, 'Turn right ahead'), (4, 'Speed limit (70km/h)'), (38, 'Keep right'), (17, 'No entry')]\n"
     ]
    },
    {
     "data": {
      "image/png": "[encoded data removed]",
      "text/plain": [
       "<matplotlib.figure.Figure at 0x7fc7c5b13be0>"
      ]
     },
     "metadata": {
      "needs_background": "light"
     },
     "output_type": "display_data"
    }
   ],
   "source": [
    "### Run the predictions here and use the model to output the prediction for each image.\n",
    "### Make sure to pre-process the images with the same pre-processing pipeline used earlier.\n",
    "### Feel free to use as many code cells as needed.\n",
    "def predict_image_labels(images):\n",
    "    with tf.Session() as session:\n",
    "        saver.restore(session, './lenet')\n",
    "        label_names = load_label_names()\n",
    "        images_normalized = list(map(normalize_image, images))\n",
    "        return list(map(lambda image: predict(session, image, label_names), images_normalized))\n",
    "\n",
    "images = random_images(X_valid, 5)\n",
    "print(images.shape)\n",
    "predictions = predict_image_labels(images)\n",
    "print(predictions)\n",
    "display(images, predictions)"
   ]
  },
  {
   "cell_type": "markdown",
   "metadata": {},
   "source": [
    "### Analyze Performance"
   ]
  },
  {
   "cell_type": "code",
   "execution_count": 4,
   "metadata": {
    "collapsed": true
   },
   "outputs": [],
   "source": [
    "### Calculate the accuracy for these 5 new images. \n",
    "### For example, if the model predicted 1 out of 5 signs correctly, it's 20% accurate on these new images.\n",
    "\n",
    "# validation_accuracy = evaluate(accuracy_operation, vd, vl, batch_size)\n",
    "# print(\"Validation accuracy: {}\".format(validation_accuracy))"
   ]
  },
  {
   "cell_type": "markdown",
   "metadata": {},
   "source": [
    "### Output Top 5 Softmax Probabilities For Each Image Found on the Web"
   ]
  },
  {
   "cell_type": "markdown",
   "metadata": {},
   "source": [
    "For each of the new images, print out the model's softmax probabilities to show the **certainty** of the model's predictions (limit the output to the top 5 probabilities for each image). [`tf.nn.top_k`](https://www.tensorflow.org/versions/r0.12/api_docs/python/nn.html#top_k) could prove helpful here. \n",
    "\n",
    "The example below demonstrates how tf.nn.top_k can be used to find the top k predictions for each image.\n",
    "\n",
    "`tf.nn.top_k` will return the values and indices (class ids) of the top k predictions. So if k=3, for each sign, it'll return the 3 largest probabilities (out of a possible 43) and the correspoding class ids.\n",
    "\n",
    "Take this numpy array as an example. The values in the array represent predictions. The array contains softmax probabilities for five candidate images with six possible classes. `tf.nn.top_k` is used to choose the three classes with the highest probability:\n",
    "\n",
    "```\n",
    "# (5, 6) array\n",
    "a = np.array([[ 0.24879643,  0.07032244,  0.12641572,  0.34763842,  0.07893497,\n",
    "         0.12789202],\n",
    "       [ 0.28086119,  0.27569815,  0.08594638,  0.0178669 ,  0.18063401,\n",
    "         0.15899337],\n",
    "       [ 0.26076848,  0.23664738,  0.08020603,  0.07001922,  0.1134371 ,\n",
    "         0.23892179],\n",
    "       [ 0.11943333,  0.29198961,  0.02605103,  0.26234032,  0.1351348 ,\n",
    "         0.16505091],\n",
    "       [ 0.09561176,  0.34396535,  0.0643941 ,  0.16240774,  0.24206137,\n",
    "         0.09155967]])\n",
    "```\n",
    "\n",
    "Running it through `sess.run(tf.nn.top_k(tf.constant(a), k=3))` produces:\n",
    "\n",
    "```\n",
    "TopKV2(values=array([[ 0.34763842,  0.24879643,  0.12789202],\n",
    "       [ 0.28086119,  0.27569815,  0.18063401],\n",
    "       [ 0.26076848,  0.23892179,  0.23664738],\n",
    "       [ 0.29198961,  0.26234032,  0.16505091],\n",
    "       [ 0.34396535,  0.24206137,  0.16240774]]), indices=array([[3, 0, 5],\n",
    "       [0, 1, 4],\n",
    "       [0, 5, 1],\n",
    "       [1, 3, 5],\n",
    "       [1, 4, 3]], dtype=int32))\n",
    "```\n",
    "\n",
    "Looking just at the first row we get `[ 0.34763842,  0.24879643,  0.12789202]`, you can confirm these are the 3 largest probabilities in `a`. You'll also notice `[3, 0, 5]` are the corresponding indices."
   ]
  },
  {
   "cell_type": "code",
   "execution_count": 88,
   "metadata": {},
   "outputs": [
    {
     "name": "stdout",
     "output_type": "stream",
     "text": [
      "A: [2884   38 3472 ..., 1316 2255 3719]\n",
      "INFO:tensorflow:Restoring parameters from ./lenet\n",
      "TopKV2(values=array([[ 2307.96142578,   171.03736877,   157.26348877],\n",
      "       [  410.07989502,   267.62136841,   240.11517334],\n",
      "       [ 2120.6472168 ,   353.02560425,   347.3125    ],\n",
      "       [ 1571.91967773,   768.93859863,   742.86376953],\n",
      "       [ 3243.07006836,  1038.78894043,   -16.77622414]], dtype=float32), indices=array([[13, 34, 35],\n",
      "       [31, 21, 25],\n",
      "       [28,  0, 29],\n",
      "       [37, 39, 40],\n",
      "       [17, 14,  0]], dtype=int32))\n"
     ]
    }
   ],
   "source": [
    "### Print out the top five softmax probabilities for the predictions on the German traffic sign images found on the web. \n",
    "### Feel free to use as many code cells as needed.\n",
    "\n",
    "def print_softmax(images):\n",
    "    with tf.Session() as session:\n",
    "        saver.restore(session, './lenet')\n",
    "        labels = session.run(tf.nn.top_k(logits, 3), feed_dict={x:images, keep_prob: 1.0})\n",
    "        print(labels)\n",
    "    \n",
    "images = random_images(X_valid, 5)\n",
    "print_softmax(images)"
   ]
  },
  {
   "cell_type": "markdown",
   "metadata": {},
   "source": [
    "### Project Writeup\n",
    "\n",
    "Once you have completed the code implementation, document your results in a project writeup using this [template](https://github.com/udacity/CarND-Traffic-Sign-Classifier-Project/blob/master/writeup_template.md) as a guide. The writeup can be in a markdown or pdf file. "
   ]
  },
  {
   "cell_type": "markdown",
   "metadata": {},
   "source": [
    "> **Note**: Once you have completed all of the code implementations and successfully answered each question above, you may finalize your work by exporting the iPython Notebook as an HTML document. You can do this by using the menu above and navigating to  \\n\",\n",
    "    \"**File -> Download as -> HTML (.html)**. Include the finished document along with this notebook as your submission."
   ]
  },
  {
   "cell_type": "markdown",
   "metadata": {},
   "source": [
    "---\n",
    "\n",
    "## Step 4 (Optional): Visualize the Neural Network's State with Test Images\n",
    "\n",
    " This Section is not required to complete but acts as an additional excersise for understaning the output of a neural network's weights. While neural networks can be a great learning device they are often referred to as a black box. We can understand what the weights of a neural network look like better by plotting their feature maps. After successfully training your neural network you can see what it's feature maps look like by plotting the output of the network's weight layers in response to a test stimuli image. From these plotted feature maps, it's possible to see what characteristics of an image the network finds interesting. For a sign, maybe the inner network feature maps react with high activation to the sign's boundary outline or to the contrast in the sign's painted symbol.\n",
    "\n",
    " Provided for you below is the function code that allows you to get the visualization output of any tensorflow weight layer you want. The inputs to the function should be a stimuli image, one used during training or a new one you provided, and then the tensorflow variable name that represents the layer's state during the training process, for instance if you wanted to see what the [LeNet lab's](https://classroom.udacity.com/nanodegrees/nd013/parts/fbf77062-5703-404e-b60c-95b78b2f3f9e/modules/6df7ae49-c61c-4bb2-a23e-6527e69209ec/lessons/601ae704-1035-4287-8b11-e2c2716217ad/concepts/d4aca031-508f-4e0b-b493-e7b706120f81) feature maps looked like for it's second convolutional layer you could enter conv2 as the tf_activation variable.\n",
    "\n",
    "For an example of what feature map outputs look like, check out NVIDIA's results in their paper [End-to-End Deep Learning for Self-Driving Cars](https://devblogs.nvidia.com/parallelforall/deep-learning-self-driving-cars/) in the section Visualization of internal CNN State. NVIDIA was able to show that their network's inner weights had high activations to road boundary lines by comparing feature maps from an image with a clear path to one without. Try experimenting with a similar test to show that your trained network's weights are looking for interesting features, whether it's looking at differences in feature maps from images with or without a sign, or even what feature maps look like in a trained network vs a completely untrained one on the same sign image.\n",
    "\n",
    "<figure>\n",
    " <img src=\"visualize_cnn.png\" width=\"380\" alt=\"Combined Image\" />\n",
    " <figcaption>\n",
    " <p></p> \n",
    " <p style=\"text-align: center;\"> Your output should look something like this (above)</p> \n",
    " </figcaption>\n",
    "</figure>\n",
    " <p></p> \n"
   ]
  },
  {
   "cell_type": "code",
   "execution_count": 79,
   "metadata": {},
   "outputs": [],
   "source": [
    "### Visualize your network's feature maps here.\n",
    "### Feel free to use as many code cells as needed.\n",
    "\n",
    "# image_input: the test image being fed into the network to produce the feature maps\n",
    "# tf_activation: should be a tf variable name used during your training procedure that represents the calculated state of a specific weight layer\n",
    "# activation_min/max: can be used to view the activation contrast in more detail, by default matplot sets min and max to the actual min and max values of the output\n",
    "# plt_num: used to plot out multiple different weight feature map sets on the same block, just extend the plt number for each new feature map entry\n",
    "\n",
    "def outputFeatureMap(image_input, tf_activation, activation_min=-1, activation_max=-1 ,plt_num=1):\n",
    "    # Here make sure to preprocess your image_input in a way your network expects\n",
    "    # with size, normalization, ect if needed\n",
    "    # image_input =\n",
    "    # Note: x should be the same name as your network's tensorflow data placeholder variable\n",
    "    # If you get an error tf_activation is not defined it may be having trouble accessing the variable from inside a function\n",
    "    activation = tf_activation.eval(session=sess,feed_dict={x : image_input, keep_prob: 1.0})\n",
    "    featuremaps = activation.shape[3]\n",
    "    plt.figure(plt_num, figsize=(15,15))\n",
    "    for featuremap in range(featuremaps):\n",
    "        plt.subplot(6,8, featuremap+1) # sets the number of feature maps to show on each row and column\n",
    "        plt.title('FeatureMap ' + str(featuremap)) # displays the feature map number\n",
    "        if activation_min != -1 & activation_max != -1:\n",
    "            plt.imshow(activation[0,:,:, featuremap], interpolation=\"nearest\", vmin =activation_min, vmax=activation_max, cmap=\"gray\")\n",
    "        elif activation_max != -1:\n",
    "            plt.imshow(activation[0,:,:, featuremap], interpolation=\"nearest\", vmax=activation_max, cmap=\"gray\")\n",
    "        elif activation_min !=-1:\n",
    "            plt.imshow(activation[0,:,:, featuremap], interpolation=\"nearest\", vmin=activation_min, cmap=\"gray\")\n",
    "        else:\n",
    "            plt.imshow(activation[0,:,:, featuremap], interpolation=\"nearest\", cmap=\"gray\")"
   ]
  }
 ],
 "metadata": {
  "anaconda-cloud": {},
  "kernelspec": {
   "display_name": "Python 3",
   "language": "python",
   "name": "python3"
  },
  "language_info": {
   "codemirror_mode": {
    "name": "ipython",
    "version": 3
   },
   "file_extension": ".py",
   "mimetype": "text/x-python",
   "name": "python",
   "nbconvert_exporter": "python",
   "pygments_lexer": "ipython3",
   "version": "3.5.2"
  },
  "widgets": {
   "state": {},
   "version": "1.1.2"
  }
 },
 "nbformat": 4,
 "nbformat_minor": 1
}
